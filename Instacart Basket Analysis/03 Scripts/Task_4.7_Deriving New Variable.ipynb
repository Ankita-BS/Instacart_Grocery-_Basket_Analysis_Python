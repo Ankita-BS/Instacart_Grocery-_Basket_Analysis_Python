{
 "cells": [
  {
   "cell_type": "markdown",
   "id": "47a8923e-1941-4968-901f-e310f630ed30",
   "metadata": {},
   "source": [
    "## 4.7: Deriving New Variables"
   ]
  },
  {
   "cell_type": "markdown",
   "id": "d04252e8-b18a-4b7e-9375-88230de54376",
   "metadata": {},
   "source": [
    "### This script includes the following points:\n",
    "##### Step 1a. Create “price_label” column.\n",
    "\n",
    "##### Step 1b. Create \"busiest_day\" column.\n",
    "\n",
    "##### Step 2. Update \"busiest day\" column to \"busiest days\" to identify order day of the week as \"Busiest days,\" \"Slowest days,\" or \"Regularly busy.\"\n",
    "\n",
    "##### Step 3. Check values of new \"busiest days\" column for accuracy with observations in markdown format.\n",
    "\n",
    "##### Step 4. Create new column \"busiest_period_of_day\" to identify time periods “Most orders,” “Average orders,” and “Fewest orders.”\n",
    "\n",
    "##### Step 5. Print frequency of \"busiest_period_of_day\" column.\n",
    "\n",
    "##### Step 7. Export dataframe as a pickle file to “Prepared Data” folder."
   ]
  },
  {
   "cell_type": "code",
   "execution_count": 153,
   "id": "ae335686-8c55-4c53-85fc-1fd8cbe9804d",
   "metadata": {},
   "outputs": [],
   "source": [
    "#Importing Libraries\n",
    "import pandas as pd\n",
    "import numpy as nd\n",
    "import os"
   ]
  },
  {
   "cell_type": "code",
   "execution_count": 154,
   "id": "8d42a463-bdb5-411d-8b6e-dedf945df4f3",
   "metadata": {},
   "outputs": [],
   "source": [
    "#Turn project folder path into a string\n",
    "path = r'C:\\Users\\ankit\\Desktop\\DataAnalysisCF\\DataImmersion\\PythonFundamentals\\Instacart Basket Analysis\\02 Data'"
   ]
  },
  {
   "cell_type": "code",
   "execution_count": 155,
   "id": "fb0c0832-88a2-45eb-9f44-3d200fd989a2",
   "metadata": {},
   "outputs": [],
   "source": [
    "#Importing Dataframe\n",
    "df_ords_prods_merge = pd.read_pickle(os.path.join(path,'Prepared Data','ords_prods_merge.pkl'))"
   ]
  },
  {
   "cell_type": "markdown",
   "id": "87305c56-b9b2-4b55-a9bf-ac325d5dcfa3",
   "metadata": {},
   "source": [
    "### Step 1a. Create \"price_label\" column."
   ]
  },
  {
   "cell_type": "code",
   "execution_count": 157,
   "id": "258f4e33-d846-4f67-83b2-32fe066c57e2",
   "metadata": {},
   "outputs": [],
   "source": [
    "#Creating a subset of first 1 million rows\n",
    "df = df_ords_prods_merge[:1000000]"
   ]
  },
  {
   "cell_type": "code",
   "execution_count": 158,
   "id": "ce222032-ce99-4d97-8964-417f05f7a67a",
   "metadata": {},
   "outputs": [
    {
     "data": {
      "text/plain": [
       "(1000000, 15)"
      ]
     },
     "execution_count": 158,
     "metadata": {},
     "output_type": "execute_result"
    }
   ],
   "source": [
    "df.shape"
   ]
  },
  {
   "cell_type": "code",
   "execution_count": 159,
   "id": "0cb7a348-8612-4e31-af71-fd3718ebbef9",
   "metadata": {},
   "outputs": [],
   "source": [
    "# Define a function for price labels\n",
    "def price_label(row):\n",
    "\n",
    "  if row['prices'] <= 5:\n",
    "    return 'Low-range product'\n",
    "  elif (row['prices'] > 5) and (row['prices'] <= 15):\n",
    "    return 'Mid-range product'\n",
    "  elif row['prices'] > 15:\n",
    "    return 'High range'\n",
    "  else: return 'Not enough data'"
   ]
  },
  {
   "cell_type": "code",
   "execution_count": 160,
   "id": "c9761e73-23f2-4a30-87c3-b5adc70f8741",
   "metadata": {},
   "outputs": [
    {
     "name": "stderr",
     "output_type": "stream",
     "text": [
      "C:\\Users\\ankit\\AppData\\Local\\Temp\\ipykernel_11988\\3431473277.py:2: SettingWithCopyWarning: \n",
      "A value is trying to be set on a copy of a slice from a DataFrame.\n",
      "Try using .loc[row_indexer,col_indexer] = value instead\n",
      "\n",
      "See the caveats in the documentation: https://pandas.pydata.org/pandas-docs/stable/user_guide/indexing.html#returning-a-view-versus-a-copy\n",
      "  df['price_range'] = df.apply(price_label, axis=1)\n"
     ]
    }
   ],
   "source": [
    "# Apply price range function.\n",
    "df['price_range'] = df.apply(price_label, axis=1)"
   ]
  },
  {
   "cell_type": "code",
   "execution_count": 161,
   "id": "d3bb508e-d148-4e56-89df-bbdde3676d72",
   "metadata": {},
   "outputs": [
    {
     "data": {
      "text/plain": [
       "price_range\n",
       "Mid-range product    652638\n",
       "Low-range product    338018\n",
       "High range             9344\n",
       "Name: count, dtype: int64"
      ]
     },
     "execution_count": 161,
     "metadata": {},
     "output_type": "execute_result"
    }
   ],
   "source": [
    "df['price_range'].value_counts(dropna = False)"
   ]
  },
  {
   "cell_type": "code",
   "execution_count": 162,
   "id": "b8ac7623-4698-40dc-87f8-bc15ac1befd8",
   "metadata": {},
   "outputs": [
    {
     "data": {
      "text/plain": [
       "24.5"
      ]
     },
     "execution_count": 162,
     "metadata": {},
     "output_type": "execute_result"
    }
   ],
   "source": [
    "df['prices'].max()"
   ]
  },
  {
   "cell_type": "code",
   "execution_count": 187,
   "id": "f70f5451-1401-4953-9130-9fced138bafe",
   "metadata": {},
   "outputs": [],
   "source": [
    "# Use loc() method on df subset to apply price range function.\n",
    "df.loc[df['prices'] > 15, 'price_range_loc'] = 'High-range product'"
   ]
  },
  {
   "cell_type": "code",
   "execution_count": 164,
   "id": "f2077a02-9daf-4a62-a6dd-8858c80d0015",
   "metadata": {},
   "outputs": [],
   "source": [
    "df.loc[(df['prices'] <= 15) & (df['prices'] > 5), 'price_range_loc'] = 'Mid-range product'"
   ]
  },
  {
   "cell_type": "code",
   "execution_count": 165,
   "id": "a8c5becc-d836-44d6-932a-e672568ce904",
   "metadata": {},
   "outputs": [],
   "source": [
    "df.loc[df['prices'] <= 5, 'price_range_loc'] = 'Low-range product'"
   ]
  },
  {
   "cell_type": "code",
   "execution_count": 166,
   "id": "e1c3fedc-3476-4886-8bf3-845230071bd4",
   "metadata": {},
   "outputs": [
    {
     "data": {
      "text/plain": [
       "price_range_loc\n",
       "Mid-range product     652638\n",
       "Low-range product     338018\n",
       "High-range product      9344\n",
       "Name: count, dtype: int64"
      ]
     },
     "execution_count": 166,
     "metadata": {},
     "output_type": "execute_result"
    }
   ],
   "source": [
    "df['price_range_loc'].value_counts(dropna = False)"
   ]
  },
  {
   "cell_type": "code",
   "execution_count": 167,
   "id": "c31a9e43-050b-4120-8127-f734713ad053",
   "metadata": {},
   "outputs": [],
   "source": [
    "# Use loc() method on entire ords_prods_merge dataframe to apply price range function.\n",
    "\n",
    "df_ords_prods_merge.loc[df_ords_prods_merge['prices'] > 15, 'price_range_loc'] = 'High-range product'"
   ]
  },
  {
   "cell_type": "code",
   "execution_count": 168,
   "id": "911e666a-102e-4164-bae9-c9fb22b906b2",
   "metadata": {},
   "outputs": [],
   "source": [
    "df_ords_prods_merge.loc[(df_ords_prods_merge['prices'] <= 15) & (df_ords_prods_merge['prices'] > 5), 'price_range_loc'] = 'Mid-range product'"
   ]
  },
  {
   "cell_type": "code",
   "execution_count": 169,
   "id": "ee7b1bec-194c-4597-b12c-c278c9c52c32",
   "metadata": {},
   "outputs": [],
   "source": [
    "df_ords_prods_merge.loc[df_ords_prods_merge['prices'] <= 5, 'price_range_loc'] = 'Low-range product'"
   ]
  },
  {
   "cell_type": "code",
   "execution_count": 170,
   "id": "b96d2ef3-82ab-4dd5-a624-99dd6b2c1f66",
   "metadata": {},
   "outputs": [
    {
     "data": {
      "text/plain": [
       "price_range_loc\n",
       "Mid-range product     21860860\n",
       "Low-range product     10126321\n",
       "High-range product      417678\n",
       "Name: count, dtype: int64"
      ]
     },
     "execution_count": 170,
     "metadata": {},
     "output_type": "execute_result"
    }
   ],
   "source": [
    "df_ords_prods_merge['price_range_loc'].value_counts(dropna = False)"
   ]
  },
  {
   "cell_type": "code",
   "execution_count": 171,
   "id": "26f636b4-7074-42ab-9172-945f218db97c",
   "metadata": {},
   "outputs": [
    {
     "data": {
      "text/html": [
       "<div>\n",
       "<style scoped>\n",
       "    .dataframe tbody tr th:only-of-type {\n",
       "        vertical-align: middle;\n",
       "    }\n",
       "\n",
       "    .dataframe tbody tr th {\n",
       "        vertical-align: top;\n",
       "    }\n",
       "\n",
       "    .dataframe thead th {\n",
       "        text-align: right;\n",
       "    }\n",
       "</style>\n",
       "<table border=\"1\" class=\"dataframe\">\n",
       "  <thead>\n",
       "    <tr style=\"text-align: right;\">\n",
       "      <th></th>\n",
       "      <th>product_id</th>\n",
       "      <th>product_name</th>\n",
       "      <th>aisle_id</th>\n",
       "      <th>department_id</th>\n",
       "      <th>prices</th>\n",
       "      <th>order_id</th>\n",
       "      <th>user_id</th>\n",
       "      <th>order_number</th>\n",
       "      <th>order_day_of_week</th>\n",
       "      <th>order_hour_of_day</th>\n",
       "      <th>days_since_prior_order</th>\n",
       "      <th>first_order</th>\n",
       "      <th>add_to_cart_order</th>\n",
       "      <th>reordered</th>\n",
       "      <th>_merge</th>\n",
       "      <th>price_range_loc</th>\n",
       "    </tr>\n",
       "  </thead>\n",
       "  <tbody>\n",
       "    <tr>\n",
       "      <th>0</th>\n",
       "      <td>1</td>\n",
       "      <td>Chocolate Sandwich Cookies</td>\n",
       "      <td>61</td>\n",
       "      <td>19</td>\n",
       "      <td>5.8</td>\n",
       "      <td>3139998</td>\n",
       "      <td>138</td>\n",
       "      <td>28</td>\n",
       "      <td>6</td>\n",
       "      <td>11</td>\n",
       "      <td>3.0</td>\n",
       "      <td>False</td>\n",
       "      <td>5</td>\n",
       "      <td>0</td>\n",
       "      <td>both</td>\n",
       "      <td>Mid-range product</td>\n",
       "    </tr>\n",
       "    <tr>\n",
       "      <th>1</th>\n",
       "      <td>1</td>\n",
       "      <td>Chocolate Sandwich Cookies</td>\n",
       "      <td>61</td>\n",
       "      <td>19</td>\n",
       "      <td>5.8</td>\n",
       "      <td>1977647</td>\n",
       "      <td>138</td>\n",
       "      <td>30</td>\n",
       "      <td>6</td>\n",
       "      <td>17</td>\n",
       "      <td>20.0</td>\n",
       "      <td>False</td>\n",
       "      <td>1</td>\n",
       "      <td>1</td>\n",
       "      <td>both</td>\n",
       "      <td>Mid-range product</td>\n",
       "    </tr>\n",
       "    <tr>\n",
       "      <th>2</th>\n",
       "      <td>1</td>\n",
       "      <td>Chocolate Sandwich Cookies</td>\n",
       "      <td>61</td>\n",
       "      <td>19</td>\n",
       "      <td>5.8</td>\n",
       "      <td>389851</td>\n",
       "      <td>709</td>\n",
       "      <td>2</td>\n",
       "      <td>0</td>\n",
       "      <td>21</td>\n",
       "      <td>6.0</td>\n",
       "      <td>False</td>\n",
       "      <td>20</td>\n",
       "      <td>0</td>\n",
       "      <td>both</td>\n",
       "      <td>Mid-range product</td>\n",
       "    </tr>\n",
       "    <tr>\n",
       "      <th>3</th>\n",
       "      <td>1</td>\n",
       "      <td>Chocolate Sandwich Cookies</td>\n",
       "      <td>61</td>\n",
       "      <td>19</td>\n",
       "      <td>5.8</td>\n",
       "      <td>652770</td>\n",
       "      <td>764</td>\n",
       "      <td>1</td>\n",
       "      <td>3</td>\n",
       "      <td>13</td>\n",
       "      <td>NaN</td>\n",
       "      <td>True</td>\n",
       "      <td>10</td>\n",
       "      <td>0</td>\n",
       "      <td>both</td>\n",
       "      <td>Mid-range product</td>\n",
       "    </tr>\n",
       "    <tr>\n",
       "      <th>4</th>\n",
       "      <td>1</td>\n",
       "      <td>Chocolate Sandwich Cookies</td>\n",
       "      <td>61</td>\n",
       "      <td>19</td>\n",
       "      <td>5.8</td>\n",
       "      <td>1813452</td>\n",
       "      <td>764</td>\n",
       "      <td>3</td>\n",
       "      <td>4</td>\n",
       "      <td>17</td>\n",
       "      <td>9.0</td>\n",
       "      <td>False</td>\n",
       "      <td>11</td>\n",
       "      <td>1</td>\n",
       "      <td>both</td>\n",
       "      <td>Mid-range product</td>\n",
       "    </tr>\n",
       "  </tbody>\n",
       "</table>\n",
       "</div>"
      ],
      "text/plain": [
       "   product_id                product_name  aisle_id  department_id  prices  \\\n",
       "0           1  Chocolate Sandwich Cookies        61             19     5.8   \n",
       "1           1  Chocolate Sandwich Cookies        61             19     5.8   \n",
       "2           1  Chocolate Sandwich Cookies        61             19     5.8   \n",
       "3           1  Chocolate Sandwich Cookies        61             19     5.8   \n",
       "4           1  Chocolate Sandwich Cookies        61             19     5.8   \n",
       "\n",
       "   order_id  user_id  order_number  order_day_of_week  order_hour_of_day  \\\n",
       "0   3139998      138            28                  6                 11   \n",
       "1   1977647      138            30                  6                 17   \n",
       "2    389851      709             2                  0                 21   \n",
       "3    652770      764             1                  3                 13   \n",
       "4   1813452      764             3                  4                 17   \n",
       "\n",
       "   days_since_prior_order  first_order  add_to_cart_order  reordered _merge  \\\n",
       "0                     3.0        False                  5          0   both   \n",
       "1                    20.0        False                  1          1   both   \n",
       "2                     6.0        False                 20          0   both   \n",
       "3                     NaN         True                 10          0   both   \n",
       "4                     9.0        False                 11          1   both   \n",
       "\n",
       "     price_range_loc  \n",
       "0  Mid-range product  \n",
       "1  Mid-range product  \n",
       "2  Mid-range product  \n",
       "3  Mid-range product  \n",
       "4  Mid-range product  "
      ]
     },
     "execution_count": 171,
     "metadata": {},
     "output_type": "execute_result"
    }
   ],
   "source": [
    "df_ords_prods_merge.head()"
   ]
  },
  {
   "cell_type": "markdown",
   "id": "489fd569-f4b2-4d94-ae31-5bb5e2600aa2",
   "metadata": {},
   "source": [
    "### Step 1b. Create \"busiest_day\" column."
   ]
  },
  {
   "cell_type": "code",
   "execution_count": 173,
   "id": "93441358-14fc-4e10-a2ae-535dcc82697d",
   "metadata": {},
   "outputs": [
    {
     "data": {
      "text/plain": [
       "order_day_of_week\n",
       "0    6204182\n",
       "1    5660230\n",
       "6    4496490\n",
       "2    4213830\n",
       "5    4205791\n",
       "3    3840534\n",
       "4    3783802\n",
       "Name: count, dtype: int64"
      ]
     },
     "execution_count": 173,
     "metadata": {},
     "output_type": "execute_result"
    }
   ],
   "source": [
    "# Find frequency of orders_day_of_week.\n",
    "\n",
    "df_ords_prods_merge['order_day_of_week'].value_counts(dropna = False)"
   ]
  },
  {
   "cell_type": "code",
   "execution_count": 174,
   "id": "7c0a8652-7376-46b8-8d5e-974fa7239d93",
   "metadata": {},
   "outputs": [],
   "source": [
    "# Use for-loop to determine whether orders are on \"busiest day\" (0 = Saturday), \"least busy\" (4 = Wednesday), or \"regularly busy\" (other days of the week).\n",
    "\n",
    "result =[]"
   ]
  },
  {
   "cell_type": "code",
   "execution_count": 175,
   "id": "ff68c239-2c3f-41c3-af3a-682cbabda14a",
   "metadata": {},
   "outputs": [],
   "source": [
    "for value in df_ords_prods_merge['order_day_of_week']:\n",
    "    if value == 0 :\n",
    "        result.append(\"Busiest Day\")\n",
    "    elif value == 4 :\n",
    "        result.append(\"Least Busy\")\n",
    "    else : result.append(\"Regularly Busy\")\n",
    "    "
   ]
  },
  {
   "cell_type": "code",
   "execution_count": 176,
   "id": "c1df3cde-91ca-4564-abf5-123c9ea57927",
   "metadata": {},
   "outputs": [],
   "source": [
    "# Create new column in ords_prods_merge to view results in context.\n",
    "\n",
    "df_ords_prods_merge['busiest_day'] = result"
   ]
  },
  {
   "cell_type": "code",
   "execution_count": 177,
   "id": "46977fbf-1cc6-4af3-bd6d-cffa66aa4eed",
   "metadata": {},
   "outputs": [
    {
     "data": {
      "text/html": [
       "<div>\n",
       "<style scoped>\n",
       "    .dataframe tbody tr th:only-of-type {\n",
       "        vertical-align: middle;\n",
       "    }\n",
       "\n",
       "    .dataframe tbody tr th {\n",
       "        vertical-align: top;\n",
       "    }\n",
       "\n",
       "    .dataframe thead th {\n",
       "        text-align: right;\n",
       "    }\n",
       "</style>\n",
       "<table border=\"1\" class=\"dataframe\">\n",
       "  <thead>\n",
       "    <tr style=\"text-align: right;\">\n",
       "      <th></th>\n",
       "      <th>product_id</th>\n",
       "      <th>product_name</th>\n",
       "      <th>aisle_id</th>\n",
       "      <th>department_id</th>\n",
       "      <th>prices</th>\n",
       "      <th>order_id</th>\n",
       "      <th>user_id</th>\n",
       "      <th>order_number</th>\n",
       "      <th>order_day_of_week</th>\n",
       "      <th>order_hour_of_day</th>\n",
       "      <th>days_since_prior_order</th>\n",
       "      <th>first_order</th>\n",
       "      <th>add_to_cart_order</th>\n",
       "      <th>reordered</th>\n",
       "      <th>_merge</th>\n",
       "      <th>price_range_loc</th>\n",
       "      <th>busiest_day</th>\n",
       "    </tr>\n",
       "  </thead>\n",
       "  <tbody>\n",
       "    <tr>\n",
       "      <th>0</th>\n",
       "      <td>1</td>\n",
       "      <td>Chocolate Sandwich Cookies</td>\n",
       "      <td>61</td>\n",
       "      <td>19</td>\n",
       "      <td>5.8</td>\n",
       "      <td>3139998</td>\n",
       "      <td>138</td>\n",
       "      <td>28</td>\n",
       "      <td>6</td>\n",
       "      <td>11</td>\n",
       "      <td>3.0</td>\n",
       "      <td>False</td>\n",
       "      <td>5</td>\n",
       "      <td>0</td>\n",
       "      <td>both</td>\n",
       "      <td>Mid-range product</td>\n",
       "      <td>Regularly Busy</td>\n",
       "    </tr>\n",
       "    <tr>\n",
       "      <th>1</th>\n",
       "      <td>1</td>\n",
       "      <td>Chocolate Sandwich Cookies</td>\n",
       "      <td>61</td>\n",
       "      <td>19</td>\n",
       "      <td>5.8</td>\n",
       "      <td>1977647</td>\n",
       "      <td>138</td>\n",
       "      <td>30</td>\n",
       "      <td>6</td>\n",
       "      <td>17</td>\n",
       "      <td>20.0</td>\n",
       "      <td>False</td>\n",
       "      <td>1</td>\n",
       "      <td>1</td>\n",
       "      <td>both</td>\n",
       "      <td>Mid-range product</td>\n",
       "      <td>Regularly Busy</td>\n",
       "    </tr>\n",
       "    <tr>\n",
       "      <th>2</th>\n",
       "      <td>1</td>\n",
       "      <td>Chocolate Sandwich Cookies</td>\n",
       "      <td>61</td>\n",
       "      <td>19</td>\n",
       "      <td>5.8</td>\n",
       "      <td>389851</td>\n",
       "      <td>709</td>\n",
       "      <td>2</td>\n",
       "      <td>0</td>\n",
       "      <td>21</td>\n",
       "      <td>6.0</td>\n",
       "      <td>False</td>\n",
       "      <td>20</td>\n",
       "      <td>0</td>\n",
       "      <td>both</td>\n",
       "      <td>Mid-range product</td>\n",
       "      <td>Busiest Day</td>\n",
       "    </tr>\n",
       "    <tr>\n",
       "      <th>3</th>\n",
       "      <td>1</td>\n",
       "      <td>Chocolate Sandwich Cookies</td>\n",
       "      <td>61</td>\n",
       "      <td>19</td>\n",
       "      <td>5.8</td>\n",
       "      <td>652770</td>\n",
       "      <td>764</td>\n",
       "      <td>1</td>\n",
       "      <td>3</td>\n",
       "      <td>13</td>\n",
       "      <td>NaN</td>\n",
       "      <td>True</td>\n",
       "      <td>10</td>\n",
       "      <td>0</td>\n",
       "      <td>both</td>\n",
       "      <td>Mid-range product</td>\n",
       "      <td>Regularly Busy</td>\n",
       "    </tr>\n",
       "    <tr>\n",
       "      <th>4</th>\n",
       "      <td>1</td>\n",
       "      <td>Chocolate Sandwich Cookies</td>\n",
       "      <td>61</td>\n",
       "      <td>19</td>\n",
       "      <td>5.8</td>\n",
       "      <td>1813452</td>\n",
       "      <td>764</td>\n",
       "      <td>3</td>\n",
       "      <td>4</td>\n",
       "      <td>17</td>\n",
       "      <td>9.0</td>\n",
       "      <td>False</td>\n",
       "      <td>11</td>\n",
       "      <td>1</td>\n",
       "      <td>both</td>\n",
       "      <td>Mid-range product</td>\n",
       "      <td>Least Busy</td>\n",
       "    </tr>\n",
       "  </tbody>\n",
       "</table>\n",
       "</div>"
      ],
      "text/plain": [
       "   product_id                product_name  aisle_id  department_id  prices  \\\n",
       "0           1  Chocolate Sandwich Cookies        61             19     5.8   \n",
       "1           1  Chocolate Sandwich Cookies        61             19     5.8   \n",
       "2           1  Chocolate Sandwich Cookies        61             19     5.8   \n",
       "3           1  Chocolate Sandwich Cookies        61             19     5.8   \n",
       "4           1  Chocolate Sandwich Cookies        61             19     5.8   \n",
       "\n",
       "   order_id  user_id  order_number  order_day_of_week  order_hour_of_day  \\\n",
       "0   3139998      138            28                  6                 11   \n",
       "1   1977647      138            30                  6                 17   \n",
       "2    389851      709             2                  0                 21   \n",
       "3    652770      764             1                  3                 13   \n",
       "4   1813452      764             3                  4                 17   \n",
       "\n",
       "   days_since_prior_order  first_order  add_to_cart_order  reordered _merge  \\\n",
       "0                     3.0        False                  5          0   both   \n",
       "1                    20.0        False                  1          1   both   \n",
       "2                     6.0        False                 20          0   both   \n",
       "3                     NaN         True                 10          0   both   \n",
       "4                     9.0        False                 11          1   both   \n",
       "\n",
       "     price_range_loc     busiest_day  \n",
       "0  Mid-range product  Regularly Busy  \n",
       "1  Mid-range product  Regularly Busy  \n",
       "2  Mid-range product     Busiest Day  \n",
       "3  Mid-range product  Regularly Busy  \n",
       "4  Mid-range product      Least Busy  "
      ]
     },
     "execution_count": 177,
     "metadata": {},
     "output_type": "execute_result"
    }
   ],
   "source": [
    "# Check the newly added column\n",
    "df_ords_prods_merge.head()"
   ]
  },
  {
   "cell_type": "code",
   "execution_count": 178,
   "id": "fc00db29-c392-44ac-bd50-0e85f8ebf567",
   "metadata": {},
   "outputs": [
    {
     "data": {
      "text/plain": [
       "busiest_day\n",
       "Regularly Busy    22416875\n",
       "Busiest Day        6204182\n",
       "Least Busy         3783802\n",
       "Name: count, dtype: int64"
      ]
     },
     "execution_count": 178,
     "metadata": {},
     "output_type": "execute_result"
    }
   ],
   "source": [
    "# Check the frequency of busiest_day column\n",
    "df_ords_prods_merge['busiest_day'].value_counts(dropna = False)"
   ]
  },
  {
   "cell_type": "markdown",
   "id": "82c79d49-9977-4fe6-947d-7e2a34eef44f",
   "metadata": {},
   "source": [
    "### 2. Step 2. Update \"busiest day\" column to \"busiest days\" to identify order day of the week as \"Busiest days,\" \"Slowest days,\" or \"Regularly busy.\""
   ]
  },
  {
   "cell_type": "code",
   "execution_count": 180,
   "id": "507fb9cb-352f-4176-b83c-022286386ce2",
   "metadata": {},
   "outputs": [],
   "source": [
    "# Create column “busiest_days\" from \"orders_day_of_week\" to identify two busiest days (0, 1), slowest days (4, 3), or regularly busy (all other days).\n",
    "\n",
    "results = []"
   ]
  },
  {
   "cell_type": "code",
   "execution_count": 181,
   "id": "a27bffeb-fd7e-4585-9232-694f2ea49b9b",
   "metadata": {},
   "outputs": [],
   "source": [
    "for value in df_ords_prods_merge['order_day_of_week']:\n",
    "    if (value == 0 or value == 1) :\n",
    "     results.append(\"Busiest Days\")\n",
    "    elif (value == 3 or value == 4) :\n",
    "     results.append(\"Least Busy Days\")\n",
    "    else : results.append(\"Regularly Busy Days\")"
   ]
  },
  {
   "cell_type": "code",
   "execution_count": 182,
   "id": "38895434-2c85-441f-ad9d-791ee348b79e",
   "metadata": {},
   "outputs": [],
   "source": [
    "# Create new 'busiest_days' column in ords_prods_merge dataframe\n",
    "\n",
    "df_ords_prods_merge['busiest_days'] = results"
   ]
  },
  {
   "cell_type": "code",
   "execution_count": 183,
   "id": "5da6cfc6-0002-4e17-a442-240dbbc034b5",
   "metadata": {},
   "outputs": [
    {
     "data": {
      "text/html": [
       "<div>\n",
       "<style scoped>\n",
       "    .dataframe tbody tr th:only-of-type {\n",
       "        vertical-align: middle;\n",
       "    }\n",
       "\n",
       "    .dataframe tbody tr th {\n",
       "        vertical-align: top;\n",
       "    }\n",
       "\n",
       "    .dataframe thead th {\n",
       "        text-align: right;\n",
       "    }\n",
       "</style>\n",
       "<table border=\"1\" class=\"dataframe\">\n",
       "  <thead>\n",
       "    <tr style=\"text-align: right;\">\n",
       "      <th></th>\n",
       "      <th>product_id</th>\n",
       "      <th>product_name</th>\n",
       "      <th>aisle_id</th>\n",
       "      <th>department_id</th>\n",
       "      <th>prices</th>\n",
       "      <th>order_id</th>\n",
       "      <th>user_id</th>\n",
       "      <th>order_number</th>\n",
       "      <th>order_day_of_week</th>\n",
       "      <th>order_hour_of_day</th>\n",
       "      <th>days_since_prior_order</th>\n",
       "      <th>first_order</th>\n",
       "      <th>add_to_cart_order</th>\n",
       "      <th>reordered</th>\n",
       "      <th>_merge</th>\n",
       "      <th>price_range_loc</th>\n",
       "      <th>busiest_day</th>\n",
       "      <th>busiest_days</th>\n",
       "    </tr>\n",
       "  </thead>\n",
       "  <tbody>\n",
       "    <tr>\n",
       "      <th>0</th>\n",
       "      <td>1</td>\n",
       "      <td>Chocolate Sandwich Cookies</td>\n",
       "      <td>61</td>\n",
       "      <td>19</td>\n",
       "      <td>5.8</td>\n",
       "      <td>3139998</td>\n",
       "      <td>138</td>\n",
       "      <td>28</td>\n",
       "      <td>6</td>\n",
       "      <td>11</td>\n",
       "      <td>3.0</td>\n",
       "      <td>False</td>\n",
       "      <td>5</td>\n",
       "      <td>0</td>\n",
       "      <td>both</td>\n",
       "      <td>Mid-range product</td>\n",
       "      <td>Regularly Busy</td>\n",
       "      <td>Regularly Busy Days</td>\n",
       "    </tr>\n",
       "    <tr>\n",
       "      <th>1</th>\n",
       "      <td>1</td>\n",
       "      <td>Chocolate Sandwich Cookies</td>\n",
       "      <td>61</td>\n",
       "      <td>19</td>\n",
       "      <td>5.8</td>\n",
       "      <td>1977647</td>\n",
       "      <td>138</td>\n",
       "      <td>30</td>\n",
       "      <td>6</td>\n",
       "      <td>17</td>\n",
       "      <td>20.0</td>\n",
       "      <td>False</td>\n",
       "      <td>1</td>\n",
       "      <td>1</td>\n",
       "      <td>both</td>\n",
       "      <td>Mid-range product</td>\n",
       "      <td>Regularly Busy</td>\n",
       "      <td>Regularly Busy Days</td>\n",
       "    </tr>\n",
       "    <tr>\n",
       "      <th>2</th>\n",
       "      <td>1</td>\n",
       "      <td>Chocolate Sandwich Cookies</td>\n",
       "      <td>61</td>\n",
       "      <td>19</td>\n",
       "      <td>5.8</td>\n",
       "      <td>389851</td>\n",
       "      <td>709</td>\n",
       "      <td>2</td>\n",
       "      <td>0</td>\n",
       "      <td>21</td>\n",
       "      <td>6.0</td>\n",
       "      <td>False</td>\n",
       "      <td>20</td>\n",
       "      <td>0</td>\n",
       "      <td>both</td>\n",
       "      <td>Mid-range product</td>\n",
       "      <td>Busiest Day</td>\n",
       "      <td>Busiest Days</td>\n",
       "    </tr>\n",
       "    <tr>\n",
       "      <th>3</th>\n",
       "      <td>1</td>\n",
       "      <td>Chocolate Sandwich Cookies</td>\n",
       "      <td>61</td>\n",
       "      <td>19</td>\n",
       "      <td>5.8</td>\n",
       "      <td>652770</td>\n",
       "      <td>764</td>\n",
       "      <td>1</td>\n",
       "      <td>3</td>\n",
       "      <td>13</td>\n",
       "      <td>NaN</td>\n",
       "      <td>True</td>\n",
       "      <td>10</td>\n",
       "      <td>0</td>\n",
       "      <td>both</td>\n",
       "      <td>Mid-range product</td>\n",
       "      <td>Regularly Busy</td>\n",
       "      <td>Least Busy Days</td>\n",
       "    </tr>\n",
       "    <tr>\n",
       "      <th>4</th>\n",
       "      <td>1</td>\n",
       "      <td>Chocolate Sandwich Cookies</td>\n",
       "      <td>61</td>\n",
       "      <td>19</td>\n",
       "      <td>5.8</td>\n",
       "      <td>1813452</td>\n",
       "      <td>764</td>\n",
       "      <td>3</td>\n",
       "      <td>4</td>\n",
       "      <td>17</td>\n",
       "      <td>9.0</td>\n",
       "      <td>False</td>\n",
       "      <td>11</td>\n",
       "      <td>1</td>\n",
       "      <td>both</td>\n",
       "      <td>Mid-range product</td>\n",
       "      <td>Least Busy</td>\n",
       "      <td>Least Busy Days</td>\n",
       "    </tr>\n",
       "  </tbody>\n",
       "</table>\n",
       "</div>"
      ],
      "text/plain": [
       "   product_id                product_name  aisle_id  department_id  prices  \\\n",
       "0           1  Chocolate Sandwich Cookies        61             19     5.8   \n",
       "1           1  Chocolate Sandwich Cookies        61             19     5.8   \n",
       "2           1  Chocolate Sandwich Cookies        61             19     5.8   \n",
       "3           1  Chocolate Sandwich Cookies        61             19     5.8   \n",
       "4           1  Chocolate Sandwich Cookies        61             19     5.8   \n",
       "\n",
       "   order_id  user_id  order_number  order_day_of_week  order_hour_of_day  \\\n",
       "0   3139998      138            28                  6                 11   \n",
       "1   1977647      138            30                  6                 17   \n",
       "2    389851      709             2                  0                 21   \n",
       "3    652770      764             1                  3                 13   \n",
       "4   1813452      764             3                  4                 17   \n",
       "\n",
       "   days_since_prior_order  first_order  add_to_cart_order  reordered _merge  \\\n",
       "0                     3.0        False                  5          0   both   \n",
       "1                    20.0        False                  1          1   both   \n",
       "2                     6.0        False                 20          0   both   \n",
       "3                     NaN         True                 10          0   both   \n",
       "4                     9.0        False                 11          1   both   \n",
       "\n",
       "     price_range_loc     busiest_day         busiest_days  \n",
       "0  Mid-range product  Regularly Busy  Regularly Busy Days  \n",
       "1  Mid-range product  Regularly Busy  Regularly Busy Days  \n",
       "2  Mid-range product     Busiest Day         Busiest Days  \n",
       "3  Mid-range product  Regularly Busy      Least Busy Days  \n",
       "4  Mid-range product      Least Busy      Least Busy Days  "
      ]
     },
     "execution_count": 183,
     "metadata": {},
     "output_type": "execute_result"
    }
   ],
   "source": [
    "# Check output of ords_prods_merge with new \"busiest days\" column.\n",
    "\n",
    "df_ords_prods_merge.head()"
   ]
  },
  {
   "cell_type": "markdown",
   "id": "e8cf7cc5-f215-4819-843a-130b723c1742",
   "metadata": {},
   "source": [
    "### 3.Check the values of this new column for accuracy."
   ]
  },
  {
   "cell_type": "code",
   "execution_count": 185,
   "id": "c26ce686-3f33-4bfe-bc05-20b8b590bba4",
   "metadata": {},
   "outputs": [
    {
     "data": {
      "text/plain": [
       "busiest_days\n",
       "Regularly Busy Days    12916111\n",
       "Busiest Days           11864412\n",
       "Least Busy Days         7624336\n",
       "Name: count, dtype: int64"
      ]
     },
     "execution_count": 185,
     "metadata": {},
     "output_type": "execute_result"
    }
   ],
   "source": [
    "df_ords_prods_merge['busiest_days'].value_counts(dropna = False)"
   ]
  },
  {
   "cell_type": "markdown",
   "id": "78c19a33-818c-43e4-b9fc-a9f655e55932",
   "metadata": {},
   "source": [
    "#### The count of Busiest Days and Least Busy Days has increased as 2 days of the week are considered and Regularly Busy Days count has decreased."
   ]
  },
  {
   "cell_type": "markdown",
   "id": "b444abe5-1e7b-40e8-809a-82161c329b40",
   "metadata": {},
   "source": [
    "### 4. Create a new column busiest_period_of_day to identify time periods “Most orders,” “Average orders,” and “Fewest orders.”"
   ]
  },
  {
   "cell_type": "code",
   "execution_count": 191,
   "id": "eeaab199-0fc0-4598-b041-8f46432e1d6f",
   "metadata": {},
   "outputs": [
    {
     "data": {
      "text/plain": [
       "order_hour_of_day\n",
       "10    2761760\n",
       "11    2736140\n",
       "14    2689136\n",
       "15    2662144\n",
       "13    2660954\n",
       "12    2618532\n",
       "16    2535202\n",
       "9     2454203\n",
       "17    2087654\n",
       "8     1718118\n",
       "18    1636502\n",
       "19    1258305\n",
       "20     976156\n",
       "7      891054\n",
       "21     795637\n",
       "22     634225\n",
       "23     402316\n",
       "6      290493\n",
       "0      218769\n",
       "1      115700\n",
       "5       87961\n",
       "2       69375\n",
       "4       53242\n",
       "3       51281\n",
       "Name: count, dtype: int64"
      ]
     },
     "execution_count": 191,
     "metadata": {},
     "output_type": "execute_result"
    }
   ],
   "source": [
    "# Check value counts in \"order_hour_of_day\" column.\n",
    "\n",
    "df_ords_prods_merge['order_hour_of_day'].value_counts(dropna = False)"
   ]
  },
  {
   "cell_type": "markdown",
   "id": "ba74a6eb-b9d3-4d8e-9423-70db39575bb5",
   "metadata": {},
   "source": [
    "##### The value counts listed above will be split into equal thirds for the following labels: \"Most orders\" = 10, 11, 14, 15, 13, 12, 16, and 9; \"Fewest orders\" = 23, 6, 0, 1, 5, 2, 4, and 3; \"Average orders\" = all remaining values in order_hour_of_day."
   ]
  },
  {
   "cell_type": "code",
   "execution_count": 193,
   "id": "3825a18d-09b5-41b7-b372-84f8f5d8a2ef",
   "metadata": {},
   "outputs": [],
   "source": [
    "# Create for-loop if statement labeling periods of time as “Most orders,” “Average orders,” and “Fewest orders.”\n",
    "\n",
    "res = []\n",
    "\n",
    "for value in df_ords_prods_merge['order_hour_of_day']:\n",
    "    if value in (10,11,14,15,13,12,16,9) :\n",
    "        res.append(\"Most orders\")\n",
    "    elif value in (23,6,0,1,5,2,4,3) :\n",
    "        res.append(\"Fewest orders\")\n",
    "    else : res.append(\"Average orders\")"
   ]
  },
  {
   "cell_type": "code",
   "execution_count": 195,
   "id": "41c78f22-1ab0-495e-90b4-608684c7dfed",
   "metadata": {},
   "outputs": [],
   "source": [
    "## Create new column \"busiest_period_of_day\" in ords_prods_merge.\n",
    "\n",
    "df_ords_prods_merge['busiest_period_of_day'] = res"
   ]
  },
  {
   "cell_type": "code",
   "execution_count": 197,
   "id": "1a83b334-5421-437c-ac60-2bc43e038f1a",
   "metadata": {},
   "outputs": [
    {
     "data": {
      "text/html": [
       "<div>\n",
       "<style scoped>\n",
       "    .dataframe tbody tr th:only-of-type {\n",
       "        vertical-align: middle;\n",
       "    }\n",
       "\n",
       "    .dataframe tbody tr th {\n",
       "        vertical-align: top;\n",
       "    }\n",
       "\n",
       "    .dataframe thead th {\n",
       "        text-align: right;\n",
       "    }\n",
       "</style>\n",
       "<table border=\"1\" class=\"dataframe\">\n",
       "  <thead>\n",
       "    <tr style=\"text-align: right;\">\n",
       "      <th></th>\n",
       "      <th>product_id</th>\n",
       "      <th>product_name</th>\n",
       "      <th>aisle_id</th>\n",
       "      <th>department_id</th>\n",
       "      <th>prices</th>\n",
       "      <th>order_id</th>\n",
       "      <th>user_id</th>\n",
       "      <th>order_number</th>\n",
       "      <th>order_day_of_week</th>\n",
       "      <th>order_hour_of_day</th>\n",
       "      <th>days_since_prior_order</th>\n",
       "      <th>first_order</th>\n",
       "      <th>add_to_cart_order</th>\n",
       "      <th>reordered</th>\n",
       "      <th>_merge</th>\n",
       "      <th>price_range_loc</th>\n",
       "      <th>busiest_day</th>\n",
       "      <th>busiest_days</th>\n",
       "      <th>busiest_period_of_day</th>\n",
       "    </tr>\n",
       "  </thead>\n",
       "  <tbody>\n",
       "    <tr>\n",
       "      <th>0</th>\n",
       "      <td>1</td>\n",
       "      <td>Chocolate Sandwich Cookies</td>\n",
       "      <td>61</td>\n",
       "      <td>19</td>\n",
       "      <td>5.8</td>\n",
       "      <td>3139998</td>\n",
       "      <td>138</td>\n",
       "      <td>28</td>\n",
       "      <td>6</td>\n",
       "      <td>11</td>\n",
       "      <td>3.0</td>\n",
       "      <td>False</td>\n",
       "      <td>5</td>\n",
       "      <td>0</td>\n",
       "      <td>both</td>\n",
       "      <td>Mid-range product</td>\n",
       "      <td>Regularly Busy</td>\n",
       "      <td>Regularly Busy Days</td>\n",
       "      <td>Most orders</td>\n",
       "    </tr>\n",
       "    <tr>\n",
       "      <th>1</th>\n",
       "      <td>1</td>\n",
       "      <td>Chocolate Sandwich Cookies</td>\n",
       "      <td>61</td>\n",
       "      <td>19</td>\n",
       "      <td>5.8</td>\n",
       "      <td>1977647</td>\n",
       "      <td>138</td>\n",
       "      <td>30</td>\n",
       "      <td>6</td>\n",
       "      <td>17</td>\n",
       "      <td>20.0</td>\n",
       "      <td>False</td>\n",
       "      <td>1</td>\n",
       "      <td>1</td>\n",
       "      <td>both</td>\n",
       "      <td>Mid-range product</td>\n",
       "      <td>Regularly Busy</td>\n",
       "      <td>Regularly Busy Days</td>\n",
       "      <td>Average orders</td>\n",
       "    </tr>\n",
       "    <tr>\n",
       "      <th>2</th>\n",
       "      <td>1</td>\n",
       "      <td>Chocolate Sandwich Cookies</td>\n",
       "      <td>61</td>\n",
       "      <td>19</td>\n",
       "      <td>5.8</td>\n",
       "      <td>389851</td>\n",
       "      <td>709</td>\n",
       "      <td>2</td>\n",
       "      <td>0</td>\n",
       "      <td>21</td>\n",
       "      <td>6.0</td>\n",
       "      <td>False</td>\n",
       "      <td>20</td>\n",
       "      <td>0</td>\n",
       "      <td>both</td>\n",
       "      <td>Mid-range product</td>\n",
       "      <td>Busiest Day</td>\n",
       "      <td>Busiest Days</td>\n",
       "      <td>Average orders</td>\n",
       "    </tr>\n",
       "    <tr>\n",
       "      <th>3</th>\n",
       "      <td>1</td>\n",
       "      <td>Chocolate Sandwich Cookies</td>\n",
       "      <td>61</td>\n",
       "      <td>19</td>\n",
       "      <td>5.8</td>\n",
       "      <td>652770</td>\n",
       "      <td>764</td>\n",
       "      <td>1</td>\n",
       "      <td>3</td>\n",
       "      <td>13</td>\n",
       "      <td>NaN</td>\n",
       "      <td>True</td>\n",
       "      <td>10</td>\n",
       "      <td>0</td>\n",
       "      <td>both</td>\n",
       "      <td>Mid-range product</td>\n",
       "      <td>Regularly Busy</td>\n",
       "      <td>Least Busy Days</td>\n",
       "      <td>Most orders</td>\n",
       "    </tr>\n",
       "    <tr>\n",
       "      <th>4</th>\n",
       "      <td>1</td>\n",
       "      <td>Chocolate Sandwich Cookies</td>\n",
       "      <td>61</td>\n",
       "      <td>19</td>\n",
       "      <td>5.8</td>\n",
       "      <td>1813452</td>\n",
       "      <td>764</td>\n",
       "      <td>3</td>\n",
       "      <td>4</td>\n",
       "      <td>17</td>\n",
       "      <td>9.0</td>\n",
       "      <td>False</td>\n",
       "      <td>11</td>\n",
       "      <td>1</td>\n",
       "      <td>both</td>\n",
       "      <td>Mid-range product</td>\n",
       "      <td>Least Busy</td>\n",
       "      <td>Least Busy Days</td>\n",
       "      <td>Average orders</td>\n",
       "    </tr>\n",
       "  </tbody>\n",
       "</table>\n",
       "</div>"
      ],
      "text/plain": [
       "   product_id                product_name  aisle_id  department_id  prices  \\\n",
       "0           1  Chocolate Sandwich Cookies        61             19     5.8   \n",
       "1           1  Chocolate Sandwich Cookies        61             19     5.8   \n",
       "2           1  Chocolate Sandwich Cookies        61             19     5.8   \n",
       "3           1  Chocolate Sandwich Cookies        61             19     5.8   \n",
       "4           1  Chocolate Sandwich Cookies        61             19     5.8   \n",
       "\n",
       "   order_id  user_id  order_number  order_day_of_week  order_hour_of_day  \\\n",
       "0   3139998      138            28                  6                 11   \n",
       "1   1977647      138            30                  6                 17   \n",
       "2    389851      709             2                  0                 21   \n",
       "3    652770      764             1                  3                 13   \n",
       "4   1813452      764             3                  4                 17   \n",
       "\n",
       "   days_since_prior_order  first_order  add_to_cart_order  reordered _merge  \\\n",
       "0                     3.0        False                  5          0   both   \n",
       "1                    20.0        False                  1          1   both   \n",
       "2                     6.0        False                 20          0   both   \n",
       "3                     NaN         True                 10          0   both   \n",
       "4                     9.0        False                 11          1   both   \n",
       "\n",
       "     price_range_loc     busiest_day         busiest_days  \\\n",
       "0  Mid-range product  Regularly Busy  Regularly Busy Days   \n",
       "1  Mid-range product  Regularly Busy  Regularly Busy Days   \n",
       "2  Mid-range product     Busiest Day         Busiest Days   \n",
       "3  Mid-range product  Regularly Busy      Least Busy Days   \n",
       "4  Mid-range product      Least Busy      Least Busy Days   \n",
       "\n",
       "  busiest_period_of_day  \n",
       "0           Most orders  \n",
       "1        Average orders  \n",
       "2        Average orders  \n",
       "3           Most orders  \n",
       "4        Average orders  "
      ]
     },
     "execution_count": 197,
     "metadata": {},
     "output_type": "execute_result"
    }
   ],
   "source": [
    "df_ords_prods_merge.head()"
   ]
  },
  {
   "cell_type": "markdown",
   "id": "64098a44-396f-412d-8017-0fd7d5f18606",
   "metadata": {},
   "source": [
    "### 5.Print the frequency for this new column."
   ]
  },
  {
   "cell_type": "code",
   "execution_count": 199,
   "id": "9f7cca21-3a9d-4d72-b4f9-ae6ce5cf2a3c",
   "metadata": {},
   "outputs": [
    {
     "data": {
      "text/plain": [
       "busiest_period_of_day\n",
       "Most orders       21118071\n",
       "Average orders     9997651\n",
       "Fewest orders      1289137\n",
       "Name: count, dtype: int64"
      ]
     },
     "execution_count": 199,
     "metadata": {},
     "output_type": "execute_result"
    }
   ],
   "source": [
    "## Print value counts in \"busiest_period_of_day\" column.\n",
    "\n",
    "df_ords_prods_merge['busiest_period_of_day'].value_counts(dropna = False)"
   ]
  },
  {
   "cell_type": "markdown",
   "id": "008dd118-a92b-49d9-8794-2766a5139ea6",
   "metadata": {},
   "source": [
    "## Step 7. Export dataframe as a pickle file to “Prepared Data” folder."
   ]
  },
  {
   "cell_type": "code",
   "execution_count": 201,
   "id": "d983e28c-fc30-483a-a1a7-12dfb389982c",
   "metadata": {},
   "outputs": [],
   "source": [
    "df_ords_prods_merge.to_pickle(os.path.join(path,'Prepared Data', 'orders_products_merged_derived.pkl'))"
   ]
  },
  {
   "cell_type": "code",
   "execution_count": null,
   "id": "5694b4ee-d630-41d5-884c-73d12991d42b",
   "metadata": {},
   "outputs": [],
   "source": []
  }
 ],
 "metadata": {
  "kernelspec": {
   "display_name": "Python 3 (ipykernel)",
   "language": "python",
   "name": "python3"
  },
  "language_info": {
   "codemirror_mode": {
    "name": "ipython",
    "version": 3
   },
   "file_extension": ".py",
   "mimetype": "text/x-python",
   "name": "python",
   "nbconvert_exporter": "python",
   "pygments_lexer": "ipython3",
   "version": "3.12.4"
  }
 },
 "nbformat": 4,
 "nbformat_minor": 5
}
